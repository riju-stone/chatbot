{
 "metadata": {
  "language_info": {
   "codemirror_mode": {
    "name": "ipython",
    "version": 3
   },
   "file_extension": ".py",
   "mimetype": "text/x-python",
   "name": "python",
   "nbconvert_exporter": "python",
   "pygments_lexer": "ipython3",
   "version": "3.9.5"
  },
  "orig_nbformat": 4,
  "kernelspec": {
   "name": "python3",
   "display_name": "Python 3.9.5 64-bit"
  },
  "interpreter": {
   "hash": "367a22c48e1536de14b506075fd69e0d92bf674c877f2d865483f55089c9211f"
  }
 },
 "nbformat": 4,
 "nbformat_minor": 2,
 "cells": [
  {
   "cell_type": "code",
   "execution_count": 1,
   "metadata": {},
   "outputs": [],
   "source": [
    "import numpy as np\n",
    "import string\n",
    "from nltk.corpus import stopwords\n",
    "import pandas as pd\n",
    "from sklearn.feature_extraction.text import CountVectorizer\n",
    "from sklearn.tree import DecisionTreeClassifier\n",
    "from sklearn.feature_extraction.text import TfidfTransformer, TfidfVectorizer\n",
    "from sklearn.pipeline import Pipeline"
   ]
  },
  {
   "cell_type": "code",
   "execution_count": 2,
   "metadata": {},
   "outputs": [],
   "source": [
    "df = pd.read_csv('./datasets/dialogs.txt', sep='\\t')"
   ]
  },
  {
   "cell_type": "code",
   "execution_count": 3,
   "metadata": {},
   "outputs": [],
   "source": [
    "a = pd.Series(df.columns)"
   ]
  },
  {
   "cell_type": "code",
   "execution_count": 4,
   "metadata": {},
   "outputs": [
    {
     "output_type": "execute_result",
     "data": {
      "text/plain": [
       "                            hi, how are you doing?  \\\n",
       "0                    i'm fine. how about yourself?   \n",
       "1              i'm pretty good. thanks for asking.   \n",
       "2                no problem. so how have you been?   \n",
       "3                 i've been great. what about you?   \n",
       "4         i've been good. i'm in school right now.   \n",
       "...                                            ...   \n",
       "3745  Let's play a game of TWO TRUTHS and ONE LIE.   \n",
       "3746                What color is your mind today?   \n",
       "3747                What color is your mind today?   \n",
       "3748        Mint green and pastel pink. I'm happy.   \n",
       "3749            Purple, it's a happy color for me!   \n",
       "\n",
       "                          i'm fine. how about yourself?  \n",
       "0                   i'm pretty good. thanks for asking.  \n",
       "1                     no problem. so how have you been?  \n",
       "2                      i've been great. what about you?  \n",
       "3              i've been good. i'm in school right now.  \n",
       "4                             what school do you go to?  \n",
       "...                                                 ...  \n",
       "3745  1. I'm an only child. 2. I've never broken a b...  \n",
       "3746            Mint green and pastel pink. I'm happy.   \n",
       "3747                 Purple, it's a happy color for me!  \n",
       "3748          Cool. Any particular reason you're happy?  \n",
       "3749          Cool. Any particular reason you're happy?  \n",
       "\n",
       "[3750 rows x 2 columns]"
      ],
      "text/html": "<div>\n<style scoped>\n    .dataframe tbody tr th:only-of-type {\n        vertical-align: middle;\n    }\n\n    .dataframe tbody tr th {\n        vertical-align: top;\n    }\n\n    .dataframe thead th {\n        text-align: right;\n    }\n</style>\n<table border=\"1\" class=\"dataframe\">\n  <thead>\n    <tr style=\"text-align: right;\">\n      <th></th>\n      <th>hi, how are you doing?</th>\n      <th>i'm fine. how about yourself?</th>\n    </tr>\n  </thead>\n  <tbody>\n    <tr>\n      <th>0</th>\n      <td>i'm fine. how about yourself?</td>\n      <td>i'm pretty good. thanks for asking.</td>\n    </tr>\n    <tr>\n      <th>1</th>\n      <td>i'm pretty good. thanks for asking.</td>\n      <td>no problem. so how have you been?</td>\n    </tr>\n    <tr>\n      <th>2</th>\n      <td>no problem. so how have you been?</td>\n      <td>i've been great. what about you?</td>\n    </tr>\n    <tr>\n      <th>3</th>\n      <td>i've been great. what about you?</td>\n      <td>i've been good. i'm in school right now.</td>\n    </tr>\n    <tr>\n      <th>4</th>\n      <td>i've been good. i'm in school right now.</td>\n      <td>what school do you go to?</td>\n    </tr>\n    <tr>\n      <th>...</th>\n      <td>...</td>\n      <td>...</td>\n    </tr>\n    <tr>\n      <th>3745</th>\n      <td>Let's play a game of TWO TRUTHS and ONE LIE.</td>\n      <td>1. I'm an only child. 2. I've never broken a b...</td>\n    </tr>\n    <tr>\n      <th>3746</th>\n      <td>What color is your mind today?</td>\n      <td>Mint green and pastel pink. I'm happy.</td>\n    </tr>\n    <tr>\n      <th>3747</th>\n      <td>What color is your mind today?</td>\n      <td>Purple, it's a happy color for me!</td>\n    </tr>\n    <tr>\n      <th>3748</th>\n      <td>Mint green and pastel pink. I'm happy.</td>\n      <td>Cool. Any particular reason you're happy?</td>\n    </tr>\n    <tr>\n      <th>3749</th>\n      <td>Purple, it's a happy color for me!</td>\n      <td>Cool. Any particular reason you're happy?</td>\n    </tr>\n  </tbody>\n</table>\n<p>3750 rows × 2 columns</p>\n</div>"
     },
     "metadata": {},
     "execution_count": 4
    }
   ],
   "source": [
    "df"
   ]
  },
  {
   "cell_type": "code",
   "execution_count": 5,
   "metadata": {},
   "outputs": [],
   "source": [
    "a = a.rename({0: df.columns[0], 1: df.columns[1]})"
   ]
  },
  {
   "source": [
    "# Adding some common questions"
   ],
   "cell_type": "markdown",
   "metadata": {}
  },
  {
   "source": [
    "df = df.append(a, ignore_index=True)\n",
    "df.columns = ['Questions', 'Answers']"
   ],
   "cell_type": "code",
   "metadata": {},
   "execution_count": 6,
   "outputs": []
  },
  {
   "cell_type": "code",
   "execution_count": 7,
   "metadata": {},
   "outputs": [
    {
     "output_type": "execute_result",
     "data": {
      "text/plain": [
       "                                     Questions  \\\n",
       "0                i'm fine. how about yourself?   \n",
       "1          i'm pretty good. thanks for asking.   \n",
       "2            no problem. so how have you been?   \n",
       "3             i've been great. what about you?   \n",
       "4     i've been good. i'm in school right now.   \n",
       "...                                        ...   \n",
       "3746            What color is your mind today?   \n",
       "3747            What color is your mind today?   \n",
       "3748    Mint green and pastel pink. I'm happy.   \n",
       "3749        Purple, it's a happy color for me!   \n",
       "3750                    hi, how are you doing?   \n",
       "\n",
       "                                        Answers  \n",
       "0           i'm pretty good. thanks for asking.  \n",
       "1             no problem. so how have you been?  \n",
       "2              i've been great. what about you?  \n",
       "3      i've been good. i'm in school right now.  \n",
       "4                     what school do you go to?  \n",
       "...                                         ...  \n",
       "3746    Mint green and pastel pink. I'm happy.   \n",
       "3747         Purple, it's a happy color for me!  \n",
       "3748  Cool. Any particular reason you're happy?  \n",
       "3749  Cool. Any particular reason you're happy?  \n",
       "3750              i'm fine. how about yourself?  \n",
       "\n",
       "[3751 rows x 2 columns]"
      ],
      "text/html": "<div>\n<style scoped>\n    .dataframe tbody tr th:only-of-type {\n        vertical-align: middle;\n    }\n\n    .dataframe tbody tr th {\n        vertical-align: top;\n    }\n\n    .dataframe thead th {\n        text-align: right;\n    }\n</style>\n<table border=\"1\" class=\"dataframe\">\n  <thead>\n    <tr style=\"text-align: right;\">\n      <th></th>\n      <th>Questions</th>\n      <th>Answers</th>\n    </tr>\n  </thead>\n  <tbody>\n    <tr>\n      <th>0</th>\n      <td>i'm fine. how about yourself?</td>\n      <td>i'm pretty good. thanks for asking.</td>\n    </tr>\n    <tr>\n      <th>1</th>\n      <td>i'm pretty good. thanks for asking.</td>\n      <td>no problem. so how have you been?</td>\n    </tr>\n    <tr>\n      <th>2</th>\n      <td>no problem. so how have you been?</td>\n      <td>i've been great. what about you?</td>\n    </tr>\n    <tr>\n      <th>3</th>\n      <td>i've been great. what about you?</td>\n      <td>i've been good. i'm in school right now.</td>\n    </tr>\n    <tr>\n      <th>4</th>\n      <td>i've been good. i'm in school right now.</td>\n      <td>what school do you go to?</td>\n    </tr>\n    <tr>\n      <th>...</th>\n      <td>...</td>\n      <td>...</td>\n    </tr>\n    <tr>\n      <th>3746</th>\n      <td>What color is your mind today?</td>\n      <td>Mint green and pastel pink. I'm happy.</td>\n    </tr>\n    <tr>\n      <th>3747</th>\n      <td>What color is your mind today?</td>\n      <td>Purple, it's a happy color for me!</td>\n    </tr>\n    <tr>\n      <th>3748</th>\n      <td>Mint green and pastel pink. I'm happy.</td>\n      <td>Cool. Any particular reason you're happy?</td>\n    </tr>\n    <tr>\n      <th>3749</th>\n      <td>Purple, it's a happy color for me!</td>\n      <td>Cool. Any particular reason you're happy?</td>\n    </tr>\n    <tr>\n      <th>3750</th>\n      <td>hi, how are you doing?</td>\n      <td>i'm fine. how about yourself?</td>\n    </tr>\n  </tbody>\n</table>\n<p>3751 rows × 2 columns</p>\n</div>"
     },
     "metadata": {},
     "execution_count": 7
    }
   ],
   "source": [
    "df"
   ]
  },
  {
   "cell_type": "code",
   "execution_count": 8,
   "metadata": {},
   "outputs": [],
   "source": [
    "def cleaner(x):\n",
    "    return [a for a in (''.join([a for a in x if a not in string.punctuation])).lower().split()]"
   ]
  },
  {
   "source": [
    "# Decision Tree Classifier"
   ],
   "cell_type": "markdown",
   "metadata": {}
  },
  {
   "cell_type": "code",
   "execution_count": 9,
   "metadata": {},
   "outputs": [],
   "source": [
    "Pipe = Pipeline([\n",
    "    ('bow', CountVectorizer(analyzer=cleaner)),\n",
    "    ('tfidf', TfidfTransformer()),\n",
    "    ('classifier', DecisionTreeClassifier())\n",
    "])"
   ]
  },
  {
   "cell_type": "code",
   "execution_count": 10,
   "metadata": {},
   "outputs": [
    {
     "output_type": "execute_result",
     "data": {
      "text/plain": [
       "Pipeline(steps=[('bow',\n",
       "                 CountVectorizer(analyzer=<function cleaner at 0x00000226B3B263A0>)),\n",
       "                ('tfidf', TfidfTransformer()),\n",
       "                ('classifier', DecisionTreeClassifier())])"
      ]
     },
     "metadata": {},
     "execution_count": 10
    }
   ],
   "source": [
    "Pipe.fit(df['Questions'], df['Answers'])"
   ]
  },
  {
   "source": [
    "# Talking to Chatbot"
   ],
   "cell_type": "markdown",
   "metadata": {}
  },
  {
   "cell_type": "code",
   "execution_count": 50,
   "metadata": {},
   "outputs": [
    {
     "output_type": "execute_result",
     "data": {
      "text/plain": [
       "\"i'm a babysitter.\""
      ]
     },
     "metadata": {},
     "execution_count": 50
    }
   ],
   "source": [
    "Pipe.predict(['What do you do ?'])[0]"
   ]
  },
  {
   "cell_type": "code",
   "execution_count": 51,
   "metadata": {},
   "outputs": [
    {
     "output_type": "execute_result",
     "data": {
      "text/plain": [
       "\"i'm serious. you deserved this promotion.\""
      ]
     },
     "metadata": {},
     "execution_count": 51
    }
   ],
   "source": [
    "Pipe.predict(['Whose babysitter are you ?'])[0]"
   ]
  }
 ]
}