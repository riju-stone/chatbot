{
 "cells": [
  {
   "cell_type": "code",
   "execution_count": 1,
   "source": [
    "import math\r\n",
    "from transformers import GPTNeoForCausalLM, GPT2Tokenizer\r\n",
    "import torch\r\n",
    "from psutil import virtual_memory"
   ],
   "outputs": [],
   "metadata": {}
  },
  {
   "cell_type": "code",
   "execution_count": null,
   "source": [
    "mem = virtual_memory()\r\n",
    "mem.total\r\n",
    "\r\n",
    "ram = math.ceil(mem.total / pow(1024,3))\r\n",
    "print(\"Total available physical memory: {} GB\".format(ram))"
   ],
   "outputs": [
    {
     "output_type": "stream",
     "name": "stdout",
     "text": [
      "Total available physical memory: 16 GB\n"
     ]
    }
   ],
   "metadata": {}
  },
  {
   "cell_type": "code",
   "execution_count": null,
   "source": [
    "if(ram > 20):\r\n",
    "    model_name = \"EleutherAI/gpt-neo-2.7B\"\r\n",
    "elif(ram > 12):\r\n",
    "    model_name = \"EleutherAI/gpt-neo-1.3B\"\r\n",
    "else:\r\n",
    "    model_name = \"EleutherAI/gpt-neo-125M\"\r\n",
    "\r\n",
    "model_name"
   ],
   "outputs": [
    {
     "output_type": "execute_result",
     "data": {
      "text/plain": [
       "'EleutherAI/gpt-neo-125M'"
      ]
     },
     "metadata": {},
     "execution_count": 19
    }
   ],
   "metadata": {}
  },
  {
   "cell_type": "code",
   "execution_count": null,
   "source": [
    "model = GPTNeoForCausalLM.from_pretrained(model_name)"
   ],
   "outputs": [
    {
     "output_type": "stream",
     "name": "stderr",
     "text": [
      "Downloading: 100%|██████████| 1.01k/1.01k [00:00<00:00, 511kB/s]\n",
      "Downloading: 100%|██████████| 526M/526M [01:02<00:00, 8.42MB/s]\n"
     ]
    }
   ],
   "metadata": {}
  },
  {
   "cell_type": "code",
   "execution_count": null,
   "source": [
    "tokenizer = GPT2Tokenizer.from_pretrained(model_name)"
   ],
   "outputs": [
    {
     "output_type": "stream",
     "name": "stderr",
     "text": [
      "Downloading: 100%|██████████| 899k/899k [00:04<00:00, 193kB/s]\n",
      "Downloading: 100%|██████████| 456k/456k [00:02<00:00, 212kB/s]\n",
      "Downloading: 100%|██████████| 357/357 [00:00<00:00, 367kB/s]\n",
      "Downloading: 100%|██████████| 560/560 [00:00<00:00, 189kB/s]\n"
     ]
    }
   ],
   "metadata": {}
  },
  {
   "cell_type": "code",
   "execution_count": null,
   "source": [
    "prompt = \"\"\r\n",
    "output_length = 0\r\n",
    "\r\n",
    "while(True):\r\n",
    "    prompt = str(input(\"User -->  \"))\r\n",
    "    if(prompt == \"bye\"):\r\n",
    "        break\r\n",
    "    output_length = int(input(\"How long should the generated output be ? \"))\r\n",
    "    input_ids = tokenizer(prompt, return_tensors=\"pt\").input_ids\r\n",
    "    gen_tokens = model.generate(input_ids, do_sample=True, temperature=0.9, max_length=output_length)\r\n",
    "    gen_text = tokenizer.batch_decode(gen_tokens)[0]\r\n",
    "    print(gen_text)"
   ],
   "outputs": [
    {
     "output_type": "stream",
     "name": "stderr",
     "text": [
      "Setting `pad_token_id` to `eos_token_id`:50256 for open-end generation.\n"
     ]
    },
    {
     "output_type": "stream",
     "name": "stdout",
     "text": [
      "what is your favorite movie?\n",
      "<tahoe> im on ubuntu server 15.04\n",
      "<bazhang> hi, how can i send mail (or maybe a message) to a server?\n",
      "<bazhang> what\n"
     ]
    }
   ],
   "metadata": {}
  }
 ],
 "metadata": {
  "orig_nbformat": 4,
  "language_info": {
   "name": "python",
   "version": "3.9.7",
   "mimetype": "text/x-python",
   "codemirror_mode": {
    "name": "ipython",
    "version": 3
   },
   "pygments_lexer": "ipython3",
   "nbconvert_exporter": "python",
   "file_extension": ".py"
  },
  "kernelspec": {
   "name": "python3",
   "display_name": "Python 3.9.7 64-bit"
  },
  "interpreter": {
   "hash": "bf4dc6d344b952d756644de817bd34180bf4dc346a1eded414a4dd9f51dca411"
  }
 },
 "nbformat": 4,
 "nbformat_minor": 2
}