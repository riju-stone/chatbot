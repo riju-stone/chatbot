{
 "cells": [
  {
   "cell_type": "markdown",
   "source": [
    "This tutorial trains a <a href=\"https://arxiv.org/abs/1706.03762\" class=\"external\">Transformer model</a> to be a chatbot. This is an advanced example that assumes knowledge of [text generation](https://tensorflow.org/alpha/tutorials/text/text_generation), [attention](https://www.tensorflow.org/alpha/tutorials/text/nmt_with_attention) and [transformers](https://www.tensorflow.org/alpha/tutorials/text/transformer).\r\n",
    "\r\n",
    "The core idea behind the Transformer model is *self-attention*—the ability to attend to different positions of the input sequence to compute a representation of that sequence. Transformer creates stacks of self-attention layers and is explained below in the sections *Scaled dot product attention* and *Multi-head attention*.\r\n",
    "\r\n",
    "Note: The model architecture is identical to the example in [Transformer model for language understanding](https://www.tensorflow.org/alpha/tutorials/text/transformer), and we demonstrate how to implement the same model in the Functional approach instead of Subclassing."
   ],
   "metadata": {}
  },
  {
   "cell_type": "code",
   "execution_count": 1,
   "source": [
    "from __future__ import absolute_import, division, print_function, unicode_literals\r\n",
    "import sys\r\n",
    "!pip install tensorflow\r\n",
    "import tensorflow as tf\r\n",
    "\r\n",
    "!pip install tensorflow-datasets\r\n",
    "import tensorflow_datasets as tfds\r\n",
    "\r\n",
    "import os\r\n",
    "import re\r\n",
    "import numpy as np\r\n",
    "from time import time\r\n",
    "import matplotlib.pyplot as plt\r\n",
    "\r\n",
    "print(\"Tensorflow version {}\".format(tf.__version__))"
   ],
   "outputs": [
    {
     "output_type": "stream",
     "name": "stderr",
     "text": [
      "WARNING: Ignoring invalid distribution -ywin32 (c:\\users\\raka2\\appdata\\local\\programs\\python\\python39\\lib\\site-packages)\n",
      "WARNING: Ignoring invalid distribution -ywin32 (c:\\users\\raka2\\appdata\\local\\programs\\python\\python39\\lib\\site-packages)\n",
      "WARNING: Ignoring invalid distribution -ywin32 (c:\\users\\raka2\\appdata\\local\\programs\\python\\python39\\lib\\site-packages)\n",
      "    WARNING: Ignoring invalid distribution -ywin32 (c:\\users\\raka2\\appdata\\local\\programs\\python\\python39\\lib\\site-packages)\n",
      "WARNING: Ignoring invalid distribution -ywin32 (c:\\users\\raka2\\appdata\\local\\programs\\python\\python39\\lib\\site-packages)\n",
      "WARNING: Ignoring invalid distribution -ywin32 (c:\\users\\raka2\\appdata\\local\\programs\\python\\python39\\lib\\site-packages)\n",
      "WARNING: Ignoring invalid distribution -ywin32 (c:\\users\\raka2\\appdata\\local\\programs\\python\\python39\\lib\\site-packages)\n"
     ]
    },
    {
     "output_type": "stream",
     "name": "stdout",
     "text": [
      "Requirement already satisfied: tensorflow in c:\\users\\raka2\\appdata\\local\\programs\\python\\python39\\lib\\site-packages (2.6.0)\n",
      "Collecting six~=1.15.0\n",
      "  Downloading six-1.15.0-py2.py3-none-any.whl (10 kB)\n",
      "Requirement already satisfied: google-pasta~=0.2 in c:\\users\\raka2\\appdata\\local\\programs\\python\\python39\\lib\\site-packages (from tensorflow) (0.2.0)\n",
      "Requirement already satisfied: typing-extensions~=3.7.4 in c:\\users\\raka2\\appdata\\local\\programs\\python\\python39\\lib\\site-packages (from tensorflow) (3.7.4.3)\n",
      "Requirement already satisfied: clang~=5.0 in c:\\users\\raka2\\appdata\\local\\programs\\python\\python39\\lib\\site-packages (from tensorflow) (5.0)\n",
      "Requirement already satisfied: protobuf>=3.9.2 in c:\\users\\raka2\\appdata\\local\\programs\\python\\python39\\lib\\site-packages (from tensorflow) (3.17.3)\n",
      "Requirement already satisfied: h5py~=3.1.0 in c:\\users\\raka2\\appdata\\local\\programs\\python\\python39\\lib\\site-packages (from tensorflow) (3.1.0)\n",
      "Requirement already satisfied: keras~=2.6 in c:\\users\\raka2\\appdata\\local\\programs\\python\\python39\\lib\\site-packages (from tensorflow) (2.6.0)\n",
      "Requirement already satisfied: astunparse~=1.6.3 in c:\\users\\raka2\\appdata\\local\\programs\\python\\python39\\lib\\site-packages (from tensorflow) (1.6.3)\n",
      "Requirement already satisfied: wheel~=0.35 in c:\\users\\raka2\\appdata\\local\\programs\\python\\python39\\lib\\site-packages (from tensorflow) (0.37.0)\n",
      "Requirement already satisfied: grpcio<2.0,>=1.37.0 in c:\\users\\raka2\\appdata\\local\\programs\\python\\python39\\lib\\site-packages (from tensorflow) (1.40.0)\n",
      "Requirement already satisfied: opt-einsum~=3.3.0 in c:\\users\\raka2\\appdata\\local\\programs\\python\\python39\\lib\\site-packages (from tensorflow) (3.3.0)\n",
      "Requirement already satisfied: numpy~=1.19.2 in c:\\users\\raka2\\appdata\\local\\programs\\python\\python39\\lib\\site-packages (from tensorflow) (1.19.5)\n",
      "Requirement already satisfied: termcolor~=1.1.0 in c:\\users\\raka2\\appdata\\local\\programs\\python\\python39\\lib\\site-packages (from tensorflow) (1.1.0)\n",
      "Requirement already satisfied: absl-py~=0.10 in c:\\users\\raka2\\appdata\\local\\programs\\python\\python39\\lib\\site-packages (from tensorflow) (0.12.0)\n",
      "Requirement already satisfied: gast==0.4.0 in c:\\users\\raka2\\appdata\\local\\programs\\python\\python39\\lib\\site-packages (from tensorflow) (0.4.0)\n",
      "Requirement already satisfied: tensorflow-estimator~=2.6 in c:\\users\\raka2\\appdata\\local\\programs\\python\\python39\\lib\\site-packages (from tensorflow) (2.6.0)\n",
      "Requirement already satisfied: keras-preprocessing~=1.1.2 in c:\\users\\raka2\\appdata\\local\\programs\\python\\python39\\lib\\site-packages (from tensorflow) (1.1.2)\n",
      "Requirement already satisfied: flatbuffers~=1.12.0 in c:\\users\\raka2\\appdata\\local\\programs\\python\\python39\\lib\\site-packages (from tensorflow) (1.12)\n",
      "Requirement already satisfied: wrapt~=1.12.1 in c:\\users\\raka2\\appdata\\local\\programs\\python\\python39\\lib\\site-packages (from tensorflow) (1.12.1)\n",
      "Requirement already satisfied: tensorboard~=2.6 in c:\\users\\raka2\\appdata\\local\\programs\\python\\python39\\lib\\site-packages (from tensorflow) (2.6.0)\n",
      "Requirement already satisfied: requests<3,>=2.21.0 in c:\\users\\raka2\\appdata\\local\\programs\\python\\python39\\lib\\site-packages (from tensorboard~=2.6->tensorflow) (2.25.1)\n",
      "Requirement already satisfied: tensorboard-data-server<0.7.0,>=0.6.0 in c:\\users\\raka2\\appdata\\local\\programs\\python\\python39\\lib\\site-packages (from tensorboard~=2.6->tensorflow) (0.6.1)\n",
      "Requirement already satisfied: google-auth<2,>=1.6.3 in c:\\users\\raka2\\appdata\\local\\programs\\python\\python39\\lib\\site-packages (from tensorboard~=2.6->tensorflow) (1.35.0)\n",
      "Requirement already satisfied: werkzeug>=0.11.15 in c:\\users\\raka2\\appdata\\local\\programs\\python\\python39\\lib\\site-packages (from tensorboard~=2.6->tensorflow) (2.0.1)\n",
      "Requirement already satisfied: google-auth-oauthlib<0.5,>=0.4.1 in c:\\users\\raka2\\appdata\\local\\programs\\python\\python39\\lib\\site-packages (from tensorboard~=2.6->tensorflow) (0.4.6)\n",
      "Requirement already satisfied: setuptools>=41.0.0 in c:\\users\\raka2\\appdata\\local\\programs\\python\\python39\\lib\\site-packages (from tensorboard~=2.6->tensorflow) (57.4.0)\n",
      "Requirement already satisfied: tensorboard-plugin-wit>=1.6.0 in c:\\users\\raka2\\appdata\\local\\programs\\python\\python39\\lib\\site-packages (from tensorboard~=2.6->tensorflow) (1.8.0)\n",
      "Requirement already satisfied: markdown>=2.6.8 in c:\\users\\raka2\\appdata\\local\\programs\\python\\python39\\lib\\site-packages (from tensorboard~=2.6->tensorflow) (3.3.4)\n",
      "Requirement already satisfied: pyasn1-modules>=0.2.1 in c:\\users\\raka2\\appdata\\local\\programs\\python\\python39\\lib\\site-packages (from google-auth<2,>=1.6.3->tensorboard~=2.6->tensorflow) (0.2.8)\n",
      "Requirement already satisfied: cachetools<5.0,>=2.0.0 in c:\\users\\raka2\\appdata\\local\\programs\\python\\python39\\lib\\site-packages (from google-auth<2,>=1.6.3->tensorboard~=2.6->tensorflow) (4.2.2)\n",
      "Requirement already satisfied: rsa<5,>=3.1.4 in c:\\users\\raka2\\appdata\\local\\programs\\python\\python39\\lib\\site-packages (from google-auth<2,>=1.6.3->tensorboard~=2.6->tensorflow) (4.7.2)\n",
      "Requirement already satisfied: requests-oauthlib>=0.7.0 in c:\\users\\raka2\\appdata\\local\\programs\\python\\python39\\lib\\site-packages (from google-auth-oauthlib<0.5,>=0.4.1->tensorboard~=2.6->tensorflow) (1.3.0)\n",
      "Requirement already satisfied: pyasn1<0.5.0,>=0.4.6 in c:\\users\\raka2\\appdata\\local\\programs\\python\\python39\\lib\\site-packages (from pyasn1-modules>=0.2.1->google-auth<2,>=1.6.3->tensorboard~=2.6->tensorflow) (0.4.8)\n",
      "Requirement already satisfied: idna<3,>=2.5 in c:\\users\\raka2\\appdata\\local\\programs\\python\\python39\\lib\\site-packages (from requests<3,>=2.21.0->tensorboard~=2.6->tensorflow) (2.10)\n",
      "Requirement already satisfied: urllib3<1.27,>=1.21.1 in c:\\users\\raka2\\appdata\\local\\programs\\python\\python39\\lib\\site-packages (from requests<3,>=2.21.0->tensorboard~=2.6->tensorflow) (1.26.3)\n",
      "Requirement already satisfied: certifi>=2017.4.17 in c:\\users\\raka2\\appdata\\local\\programs\\python\\python39\\lib\\site-packages (from requests<3,>=2.21.0->tensorboard~=2.6->tensorflow) (2020.12.5)\n",
      "Requirement already satisfied: chardet<5,>=3.0.2 in c:\\users\\raka2\\appdata\\local\\programs\\python\\python39\\lib\\site-packages (from requests<3,>=2.21.0->tensorboard~=2.6->tensorflow) (4.0.0)\n",
      "Requirement already satisfied: oauthlib>=3.0.0 in c:\\users\\raka2\\appdata\\local\\programs\\python\\python39\\lib\\site-packages (from requests-oauthlib>=0.7.0->google-auth-oauthlib<0.5,>=0.4.1->tensorboard~=2.6->tensorflow) (3.1.1)\n",
      "Installing collected packages: six\n",
      "  Attempting uninstall: six\n",
      "    Found existing installation: six 1.16.0\n",
      "    Uninstalling six-1.16.0:\n",
      "      Successfully uninstalled six-1.16.0\n",
      "Successfully installed six-1.15.0\n",
      "Requirement already satisfied: tensorflow-datasets in c:\\users\\raka2\\appdata\\local\\programs\\python\\python39\\lib\\site-packages (4.4.0)\n",
      "Requirement already satisfied: requests>=2.19.0 in c:\\users\\raka2\\appdata\\local\\programs\\python\\python39\\lib\\site-packages (from tensorflow-datasets) (2.25.1)\n",
      "Requirement already satisfied: dill in c:\\users\\raka2\\appdata\\local\\programs\\python\\python39\\lib\\site-packages (from tensorflow-datasets) (0.3.4)\n",
      "Requirement already satisfied: attrs>=18.1.0 in c:\\users\\raka2\\appdata\\local\\programs\\python\\python39\\lib\\site-packages (from tensorflow-datasets) (21.2.0)\n",
      "Requirement already satisfied: termcolor in c:\\users\\raka2\\appdata\\local\\programs\\python\\python39\\lib\\site-packages (from tensorflow-datasets) (1.1.0)\n",
      "Requirement already satisfied: protobuf>=3.12.2 in c:\\users\\raka2\\appdata\\local\\programs\\python\\python39\\lib\\site-packages (from tensorflow-datasets) (3.17.3)\n",
      "Requirement already satisfied: tqdm in c:\\users\\raka2\\appdata\\local\\programs\\python\\python39\\lib\\site-packages (from tensorflow-datasets) (4.62.2)\n",
      "Requirement already satisfied: numpy in c:\\users\\raka2\\appdata\\local\\programs\\python\\python39\\lib\\site-packages (from tensorflow-datasets) (1.19.5)\n",
      "Requirement already satisfied: promise in c:\\users\\raka2\\appdata\\local\\programs\\python\\python39\\lib\\site-packages (from tensorflow-datasets) (2.3)\n",
      "Requirement already satisfied: tensorflow-metadata in c:\\users\\raka2\\appdata\\local\\programs\\python\\python39\\lib\\site-packages (from tensorflow-datasets) (1.2.0)\n",
      "Requirement already satisfied: absl-py in c:\\users\\raka2\\appdata\\local\\programs\\python\\python39\\lib\\site-packages (from tensorflow-datasets) (0.12.0)\n",
      "Requirement already satisfied: future in c:\\users\\raka2\\appdata\\local\\programs\\python\\python39\\lib\\site-packages (from tensorflow-datasets) (0.18.2)\n",
      "Requirement already satisfied: six in c:\\users\\raka2\\appdata\\local\\programs\\python\\python39\\lib\\site-packages (from tensorflow-datasets) (1.15.0)\n",
      "Requirement already satisfied: urllib3<1.27,>=1.21.1 in c:\\users\\raka2\\appdata\\local\\programs\\python\\python39\\lib\\site-packages (from requests>=2.19.0->tensorflow-datasets) (1.26.3)\n",
      "Requirement already satisfied: certifi>=2017.4.17 in c:\\users\\raka2\\appdata\\local\\programs\\python\\python39\\lib\\site-packages (from requests>=2.19.0->tensorflow-datasets) (2020.12.5)\n",
      "Requirement already satisfied: idna<3,>=2.5 in c:\\users\\raka2\\appdata\\local\\programs\\python\\python39\\lib\\site-packages (from requests>=2.19.0->tensorflow-datasets) (2.10)\n",
      "Requirement already satisfied: chardet<5,>=3.0.2 in c:\\users\\raka2\\appdata\\local\\programs\\python\\python39\\lib\\site-packages (from requests>=2.19.0->tensorflow-datasets) (4.0.0)\n",
      "Requirement already satisfied: googleapis-common-protos<2,>=1.52.0 in c:\\users\\raka2\\appdata\\local\\programs\\python\\python39\\lib\\site-packages (from tensorflow-metadata->tensorflow-datasets) (1.53.0)\n",
      "Requirement already satisfied: colorama in c:\\users\\raka2\\appdata\\local\\programs\\python\\python39\\lib\\site-packages (from tqdm->tensorflow-datasets) (0.4.4)\n"
     ]
    },
    {
     "output_type": "stream",
     "name": "stderr",
     "text": [
      "WARNING: Ignoring invalid distribution -ywin32 (c:\\users\\raka2\\appdata\\local\\programs\\python\\python39\\lib\\site-packages)\n",
      "WARNING: Ignoring invalid distribution -ywin32 (c:\\users\\raka2\\appdata\\local\\programs\\python\\python39\\lib\\site-packages)\n",
      "WARNING: Ignoring invalid distribution -ywin32 (c:\\users\\raka2\\appdata\\local\\programs\\python\\python39\\lib\\site-packages)\n",
      "WARNING: Ignoring invalid distribution -ywin32 (c:\\users\\raka2\\appdata\\local\\programs\\python\\python39\\lib\\site-packages)\n",
      "WARNING: Ignoring invalid distribution -ywin32 (c:\\users\\raka2\\appdata\\local\\programs\\python\\python39\\lib\\site-packages)\n"
     ]
    },
    {
     "output_type": "stream",
     "name": "stdout",
     "text": [
      "Tensorflow version 2.6.0\n"
     ]
    }
   ],
   "metadata": {}
  },
  {
   "cell_type": "markdown",
   "source": [
    "### GPU / TPU initialization"
   ],
   "metadata": {}
  },
  {
   "cell_type": "code",
   "execution_count": 2,
   "source": [
    "try:\r\n",
    "    tpu = tf.distribute.cluster_resolver.TPUClusterResolver()\r\n",
    "    print('Running on TPU {}'.format(tpu.cluster_spec().as_dict()['worker']))\r\n",
    "except ValueError:\r\n",
    "    tpu = None\r\n",
    "\r\n",
    "if tpu:\r\n",
    "    tf.config.experimental_connect_to_cluster(tpu)\r\n",
    "    tf.tpu.experimental.initialize_tpu_system(tpu)\r\n",
    "    strategy = tf.distribute.experimental.TPUStrategy(tpu)\r\n",
    "else:\r\n",
    "    strategy = tf.distribute.get_strategy()\r\n",
    "\r\n",
    "print(\"REPLICAS: {}\".format(strategy.num_replicas_in_sync))"
   ],
   "outputs": [
    {
     "output_type": "stream",
     "name": "stdout",
     "text": [
      "REPLICAS: 1\n"
     ]
    }
   ],
   "metadata": {}
  },
  {
   "cell_type": "markdown",
   "source": [
    "## Hyperparameters\r\n",
    "\r\n",
    "To keep this example small and relatively fast, the values for *num_layers, d_model, and units* have been reduced. See the [paper](https://arxiv.org/abs/1706.03762) for all the other versions of the transformer."
   ],
   "metadata": {}
  },
  {
   "cell_type": "code",
   "execution_count": 3,
   "source": [
    "# Maximum sentence length\r\n",
    "MAX_LENGTH = 40\r\n",
    "\r\n",
    "# Maximum number of samples to preprocess\r\n",
    "MAX_SAMPLES = 50000\r\n",
    "\r\n",
    "# For tf.data.Dataset\r\n",
    "BATCH_SIZE = 64 * strategy.num_replicas_in_sync\r\n",
    "BUFFER_SIZE = 20000\r\n",
    "\r\n",
    "# For Transformer\r\n",
    "NUM_LAYERS = 2\r\n",
    "D_MODEL = 256\r\n",
    "NUM_HEADS = 8\r\n",
    "UNITS = 512\r\n",
    "DROPOUT = 0.1\r\n",
    "\r\n",
    "EPOCHS = 40"
   ],
   "outputs": [],
   "metadata": {}
  },
  {
   "cell_type": "markdown",
   "source": [
    "## Prepare Dataset\r\n",
    "\r\n",
    "We will use the conversations in movies and TV shows provided by [Cornell Movie-Dialogs Corpus](https://www.cs.cornell.edu/~cristian/Cornell_Movie-Dialogs_Corpus.html), which contains more than 220 thousands conversational exchanges between more than 10k pairs of movie characters, as our dataset.\r\n",
    "\r\n",
    "`movie_conversations.txt` contains list of the conversation IDs and `movie_lines.text` contains the text of assoicated with each conversation ID. For further  information regarding the dataset, please check the README file in the zip file."
   ],
   "metadata": {}
  },
  {
   "cell_type": "code",
   "execution_count": 4,
   "source": [
    "path_to_zip = tf.keras.utils.get_file(\r\n",
    "    'cornell_movie_dialogs.zip',\r\n",
    "    origin=\r\n",
    "    'http://www.cs.cornell.edu/~cristian/data/cornell_movie_dialogs_corpus.zip',\r\n",
    "    extract=True)\r\n",
    "\r\n",
    "path_to_dataset = os.path.join(\r\n",
    "    os.path.dirname(path_to_zip), \"cornell movie-dialogs corpus\")\r\n",
    "\r\n",
    "path_to_movie_lines = os.path.join(path_to_dataset, 'movie_lines.txt')\r\n",
    "path_to_movie_conversations = os.path.join(path_to_dataset,\r\n",
    "                                           'movie_conversations.txt')"
   ],
   "outputs": [],
   "metadata": {}
  },
  {
   "cell_type": "markdown",
   "source": [
    "### Load and preprocess data\r\n",
    "\r\n",
    "To keep this example simple and fast, we are limiting the maximum number of training samples to`MAX_SAMPLES=25000` and the maximum length of the sentence to be `MAX_LENGTH=40`.\r\n",
    "\r\n",
    "We preprocess our dataset in the following order:\r\n",
    "* Extract `MAX_SAMPLES` conversation pairs into list of `questions` and `answers.\r\n",
    "* Preprocess each sentence by removing special characters in each sentence.\r\n",
    "* Build tokenizer (map text to ID and ID to text) using [TensorFlow Datasets SubwordTextEncoder](https://www.tensorflow.org/datasets/api_docs/python/tfds/features/text/SubwordTextEncoder).\r\n",
    "* Tokenize each sentence and add `START_TOKEN` and `END_TOKEN` to indicate the start and end of each sentence.\r\n",
    "* Filter out sentence that has more than `MAX_LENGTH` tokens.\r\n",
    "* Pad tokenized sentences to `MAX_LENGTH`"
   ],
   "metadata": {}
  },
  {
   "cell_type": "code",
   "execution_count": 5,
   "source": [
    "def preprocess_sentence(sentence):\r\n",
    "  sentence = sentence.lower().strip()\r\n",
    "  # creating a space between a word and the punctuation following it\r\n",
    "  # eg: \"he is a boy.\" => \"he is a boy .\"\r\n",
    "  sentence = re.sub(r\"([?.!,])\", r\" \\1 \", sentence)\r\n",
    "  sentence = re.sub(r'[\" \"]+', \" \", sentence)\r\n",
    "  # removing contractions\r\n",
    "  sentence = re.sub(r\"i'm\", \"i am\", sentence)\r\n",
    "  sentence = re.sub(r\"he's\", \"he is\", sentence)\r\n",
    "  sentence = re.sub(r\"she's\", \"she is\", sentence)\r\n",
    "  sentence = re.sub(r\"it's\", \"it is\", sentence)\r\n",
    "  sentence = re.sub(r\"that's\", \"that is\", sentence)\r\n",
    "  sentence = re.sub(r\"what's\", \"that is\", sentence)\r\n",
    "  sentence = re.sub(r\"where's\", \"where is\", sentence)\r\n",
    "  sentence = re.sub(r\"how's\", \"how is\", sentence)\r\n",
    "  sentence = re.sub(r\"\\'ll\", \" will\", sentence)\r\n",
    "  sentence = re.sub(r\"\\'ve\", \" have\", sentence)\r\n",
    "  sentence = re.sub(r\"\\'re\", \" are\", sentence)\r\n",
    "  sentence = re.sub(r\"\\'d\", \" would\", sentence)\r\n",
    "  sentence = re.sub(r\"\\'re\", \" are\", sentence)\r\n",
    "  sentence = re.sub(r\"won't\", \"will not\", sentence)\r\n",
    "  sentence = re.sub(r\"can't\", \"cannot\", sentence)\r\n",
    "  sentence = re.sub(r\"n't\", \" not\", sentence)\r\n",
    "  sentence = re.sub(r\"n'\", \"ng\", sentence)\r\n",
    "  sentence = re.sub(r\"'bout\", \"about\", sentence)\r\n",
    "  # replacing everything with space except (a-z, A-Z, \".\", \"?\", \"!\", \",\")\r\n",
    "  sentence = re.sub(r\"[^a-zA-Z?.!,]+\", \" \", sentence)\r\n",
    "  sentence = sentence.strip()\r\n",
    "  return sentence\r\n",
    "\r\n",
    "\r\n",
    "def load_conversations():\r\n",
    "  # dictionary of line id to text\r\n",
    "  id2line = {}\r\n",
    "  with open(path_to_movie_lines, errors='ignore') as file:\r\n",
    "    lines = file.readlines()\r\n",
    "  for line in lines:\r\n",
    "    parts = line.replace('\\n', '').split(' +++$+++ ')\r\n",
    "    id2line[parts[0]] = parts[4]\r\n",
    "\r\n",
    "  inputs, outputs = [], []\r\n",
    "  with open(path_to_movie_conversations, 'r') as file:\r\n",
    "    lines = file.readlines()\r\n",
    "  for line in lines:\r\n",
    "    parts = line.replace('\\n', '').split(' +++$+++ ')\r\n",
    "    # get conversation in a list of line ID\r\n",
    "    conversation = [line[1:-1] for line in parts[3][1:-1].split(', ')]\r\n",
    "    for i in range(len(conversation) - 1):\r\n",
    "      inputs.append(preprocess_sentence(id2line[conversation[i]]))\r\n",
    "      outputs.append(preprocess_sentence(id2line[conversation[i + 1]]))\r\n",
    "      if len(inputs) >= MAX_SAMPLES:\r\n",
    "        return inputs, outputs\r\n",
    "  return inputs, outputs\r\n",
    "\r\n",
    "\r\n",
    "questions, answers = load_conversations()"
   ],
   "outputs": [],
   "metadata": {}
  },
  {
   "cell_type": "code",
   "execution_count": 6,
   "source": [
    "# Build tokenizer using tfds for both questions and answers\r\n",
    "tokenizer = tfds.deprecated.text.SubwordTextEncoder.build_from_corpus(\r\n",
    "    questions + answers, target_vocab_size=2**13)\r\n",
    "\r\n",
    "# Define start and end token to indicate the start and end of a sentence\r\n",
    "START_TOKEN, END_TOKEN = [tokenizer.vocab_size], [tokenizer.vocab_size + 1]\r\n",
    "\r\n",
    "# Vocabulary size plus start and end token\r\n",
    "VOCAB_SIZE = tokenizer.vocab_size + 2"
   ],
   "outputs": [],
   "metadata": {}
  },
  {
   "cell_type": "code",
   "execution_count": 7,
   "source": [
    "# Tokenize, filter and pad sentences\r\n",
    "def tokenize_and_filter(inputs, outputs):\r\n",
    "  tokenized_inputs, tokenized_outputs = [], []\r\n",
    "  \r\n",
    "  for (sentence1, sentence2) in zip(inputs, outputs):\r\n",
    "    # tokenize sentence\r\n",
    "    sentence1 = START_TOKEN + tokenizer.encode(sentence1) + END_TOKEN\r\n",
    "    sentence2 = START_TOKEN + tokenizer.encode(sentence2) + END_TOKEN\r\n",
    "    # check tokenized sentence max length\r\n",
    "    if len(sentence1) <= MAX_LENGTH and len(sentence2) <= MAX_LENGTH:\r\n",
    "      tokenized_inputs.append(sentence1)\r\n",
    "      tokenized_outputs.append(sentence2)\r\n",
    "  \r\n",
    "  # pad tokenized sentences\r\n",
    "  tokenized_inputs = tf.keras.preprocessing.sequence.pad_sequences(\r\n",
    "      tokenized_inputs, maxlen=MAX_LENGTH, padding='post')\r\n",
    "  tokenized_outputs = tf.keras.preprocessing.sequence.pad_sequences(\r\n",
    "      tokenized_outputs, maxlen=MAX_LENGTH, padding='post')\r\n",
    "  \r\n",
    "  return tokenized_inputs, tokenized_outputs\r\n",
    "\r\n",
    "\r\n",
    "questions, answers = tokenize_and_filter(questions, answers)"
   ],
   "outputs": [],
   "metadata": {}
  },
  {
   "cell_type": "markdown",
   "source": [
    "### Create `tf.data.Dataset`\r\n",
    "\r\n",
    "We are going to use the [tf.data.Dataset API](https://www.tensorflow.org/api_docs/python/tf/data) to contruct our input pipline in order to utilize features like caching and prefetching to speed up the training process.\r\n",
    "\r\n",
    "The transformer is an auto-regressive model: it makes predictions one part at a time, and uses its output so far to decide what to do next.\r\n",
    "\r\n",
    "During training this example uses teacher-forcing. Teacher forcing is passing the true output to the next time step regardless of what the model predicts at the current time step.\r\n",
    "\r\n",
    "As the transformer predicts each word, self-attention allows it to look at the previous words in the input sequence to better predict the next word.\r\n",
    "\r\n",
    "To prevent the model from peaking at the expected output the model uses a look-ahead mask.\r\n",
    "\r\n",
    "Target is divided into `decoder_inputs` which padded as an input to the decoder and `cropped_targets` for calculating our loss and accuracy."
   ],
   "metadata": {}
  },
  {
   "cell_type": "code",
   "execution_count": 8,
   "source": [
    "# decoder inputs use the previous target as input\r\n",
    "# remove START_TOKEN from targets\r\n",
    "dataset = tf.data.Dataset.from_tensor_slices((\r\n",
    "    {\r\n",
    "        'inputs': questions,\r\n",
    "        'dec_inputs': answers[:, :-1]\r\n",
    "    },\r\n",
    "    {\r\n",
    "        'outputs': answers[:, 1:]\r\n",
    "    },\r\n",
    "))\r\n",
    "\r\n",
    "dataset = dataset.cache()\r\n",
    "dataset = dataset.shuffle(BUFFER_SIZE)\r\n",
    "dataset = dataset.batch(BATCH_SIZE)\r\n",
    "dataset = dataset.prefetch(tf.data.experimental.AUTOTUNE)\r\n",
    "\r\n",
    "print(dataset)"
   ],
   "outputs": [
    {
     "output_type": "stream",
     "name": "stdout",
     "text": [
      "<PrefetchDataset shapes: ({inputs: (None, 40), dec_inputs: (None, 39)}, {outputs: (None, 39)}), types: ({inputs: tf.int32, dec_inputs: tf.int32}, {outputs: tf.int32})>\n"
     ]
    }
   ],
   "metadata": {}
  },
  {
   "cell_type": "markdown",
   "source": [
    "### Scaled dot product Attention\r\n",
    "\r\n",
    "The scaled dot-product attention function used by the transformer takes three inputs: Q (query), K (key), V (value). The equation used to calculate the attention weights is:\r\n",
    "\r\n",
    "$$\\Large{Attention(Q, K, V) = softmax_k(\\frac{QK^T}{\\sqrt{d_k}}) V} $$\r\n",
    "\r\n",
    "As the softmax normalization is done on the `key`, its values decide the amount of importance given to the `query`.\r\n",
    "\r\n",
    "The output represents the multiplication of the attention weights and the `value` vector. This ensures that the words we want to focus on are kept as is and the irrelevant words are flushed out.\r\n",
    "\r\n",
    "The dot-product attention is scaled by a factor of square root of the depth. This is done because for large values of depth, the dot product grows large in magnitude pushing the softmax function where it has small gradients resulting in a very hard softmax. \r\n",
    "\r\n",
    "For example, consider that `query` and `key` have a mean of 0 and variance of 1. Their matrix multiplication will have a mean of 0 and variance of `dk`. Hence, *square root of `dk`* is used for scaling (and not any other number) because the matmul of `query` and `key` should have a mean of 0 and variance of 1, so that we get a gentler softmax.\r\n",
    "\r\n",
    "The mask is multiplied with *-1e9 (close to negative infinity).* This is done because the mask is summed with the scaled matrix multiplication of `query` and `key` and is applied immediately before a softmax. The goal is to zero out these cells, and large negative inputs to softmax are near zero in the output."
   ],
   "metadata": {}
  },
  {
   "cell_type": "code",
   "execution_count": 9,
   "source": [
    "def scaled_dot_product_attention(query, key, value, mask):\r\n",
    "  \"\"\"Calculate the attention weights. \"\"\"\r\n",
    "  matmul_qk = tf.matmul(query, key, transpose_b=True)\r\n",
    "\r\n",
    "  # scale matmul_qk\r\n",
    "  depth = tf.cast(tf.shape(key)[-1], tf.float32)\r\n",
    "  logits = matmul_qk / tf.math.sqrt(depth)\r\n",
    "\r\n",
    "  # add the mask to zero out padding tokens\r\n",
    "  if mask is not None:\r\n",
    "    logits += (mask * -1e9)\r\n",
    "\r\n",
    "  # softmax is normalized on the last axis (seq_len_k)\r\n",
    "  attention_weights = tf.nn.softmax(logits, axis=-1)\r\n",
    "\r\n",
    "  output = tf.matmul(attention_weights, value)\r\n",
    "\r\n",
    "  return output"
   ],
   "outputs": [],
   "metadata": {}
  },
  {
   "cell_type": "markdown",
   "source": [
    "### Multi-head attention\r\n",
    "\r\n",
    "<img src=\"https://www.tensorflow.org/images/tutorials/transformer/multi_head_attention.png\" width=\"500\" alt=\"multi-head attention\">\r\n",
    "\r\n",
    "\r\n",
    "Multi-head attention consists of four parts:\r\n",
    "* Linear layers and split into heads.\r\n",
    "* Scaled dot-product attention.\r\n",
    "* Concatenation of heads.\r\n",
    "* Final linear layer.\r\n",
    "\r\n",
    "Each multi-head attention block gets three inputs; Q (query), K (key), V (value). These are put through linear (Dense) layers and split up into multiple heads. \r\n",
    "\r\n",
    "The `scaled_dot_product_attention` defined above is applied to each head (broadcasted for efficiency). An appropriate mask must be used in the attention step.  The attention output for each head is then concatenated (using `tf.transpose`, and `tf.reshape`) and put through a final `Dense` layer.\r\n",
    "\r\n",
    "Instead of one single attention head, `query`, `key`, and `value` are split into multiple heads because it allows the model to jointly attend to information at different positions from different representational spaces. After the split each head has a reduced dimensionality, so the total computation cost is the same as a single head attention with full dimensionality."
   ],
   "metadata": {}
  },
  {
   "cell_type": "code",
   "execution_count": 10,
   "source": [
    "class MultiHeadAttention(tf.keras.layers.Layer):\r\n",
    "\r\n",
    "  def __init__(self, d_model, num_heads, name=\"multi_head_attention\"):\r\n",
    "    super(MultiHeadAttention, self).__init__(name=name)\r\n",
    "    self.num_heads = num_heads\r\n",
    "    self.d_model = d_model\r\n",
    "\r\n",
    "    assert d_model % self.num_heads == 0\r\n",
    "\r\n",
    "    self.depth = d_model // self.num_heads\r\n",
    "\r\n",
    "    self.query_dense = tf.keras.layers.Dense(units=d_model)\r\n",
    "    self.key_dense = tf.keras.layers.Dense(units=d_model)\r\n",
    "    self.value_dense = tf.keras.layers.Dense(units=d_model)\r\n",
    "\r\n",
    "    self.dense = tf.keras.layers.Dense(units=d_model)\r\n",
    "  \r\n",
    "  def get_config(self):\r\n",
    "        config = super(MultiHeadAttention,self).get_config()\r\n",
    "        config.update({\r\n",
    "            'num_heads':self.num_heads,\r\n",
    "            'd_model':self.d_model,\r\n",
    "        })\r\n",
    "        return config\r\n",
    "\r\n",
    "  def split_heads(self, inputs, batch_size):\r\n",
    "    inputs = tf.keras.layers.Lambda(lambda inputs:tf.reshape(\r\n",
    "        inputs, shape=(batch_size, -1, self.num_heads, self.depth)))(inputs)\r\n",
    "    return tf.keras.layers.Lambda(lambda inputs: tf.transpose(inputs, perm=[0, 2, 1, 3]))(inputs)\r\n",
    "\r\n",
    "  def call(self, inputs):\r\n",
    "    query, key, value, mask = inputs['query'], inputs['key'], inputs[\r\n",
    "        'value'], inputs['mask']\r\n",
    "    batch_size = tf.shape(query)[0]\r\n",
    "\r\n",
    "    # linear layers\r\n",
    "    query = self.query_dense(query)\r\n",
    "    key = self.key_dense(key)\r\n",
    "    value = self.value_dense(value)\r\n",
    "\r\n",
    "    # split heads\r\n",
    "    query = self.split_heads(query, batch_size)\r\n",
    "    key = self.split_heads(key, batch_size)\r\n",
    "    value = self.split_heads(value, batch_size)\r\n",
    "\r\n",
    "    # scaled dot-product attention\r\n",
    "    scaled_attention = scaled_dot_product_attention(query, key, value, mask)\r\n",
    "    scaled_attention = tf.keras.layers.Lambda(lambda scaled_attention: tf.transpose(\r\n",
    "        scaled_attention, perm=[0, 2, 1, 3]))(scaled_attention)\r\n",
    "\r\n",
    "    # concatenation of heads\r\n",
    "    concat_attention = tf.keras.layers.Lambda(lambda scaled_attention: tf.reshape(scaled_attention,\r\n",
    "                                  (batch_size, -1, self.d_model)))(scaled_attention)\r\n",
    "\r\n",
    "    # final linear layer\r\n",
    "    outputs = self.dense(concat_attention)\r\n",
    "\r\n",
    "    return outputs    "
   ],
   "outputs": [],
   "metadata": {}
  },
  {
   "cell_type": "markdown",
   "source": [
    "## Transformer\r\n",
    "### Masking\r\n",
    "\r\n",
    "`create_padding_mask` and `create_look_ahead` are helper functions to creating masks to mask out padded tokens, we are going to use these helper functions as `tf.keras.layers.Lambda` layers.\r\n",
    "\r\n",
    "Mask all the pad tokens (value `0`) in the batch to ensure the model does not treat padding as input."
   ],
   "metadata": {}
  },
  {
   "cell_type": "code",
   "execution_count": 12,
   "source": [
    "def create_padding_mask(x):\r\n",
    "  mask = tf.cast(tf.math.equal(x, 0), tf.float32)\r\n",
    "  # (batch_size, 1, 1, sequence length)\r\n",
    "  return mask[:, tf.newaxis, tf.newaxis, :]\r\n",
    "  \r\n",
    "print(create_padding_mask(tf.constant([[1, 2, 0, 3, 0], [0, 0, 0, 4, 5]])))"
   ],
   "outputs": [
    {
     "output_type": "stream",
     "name": "stdout",
     "text": [
      "tf.Tensor(\n",
      "[[[[0. 0. 1. 0. 1.]]]\n",
      "\n",
      "\n",
      " [[[1. 1. 1. 0. 0.]]]], shape=(2, 1, 1, 5), dtype=float32)\n"
     ]
    }
   ],
   "metadata": {}
  },
  {
   "cell_type": "markdown",
   "source": [
    "Look-ahead mask to mask the future tokens in a sequence.\r\n",
    "We also mask out pad tokens.\r\n",
    "\r\n",
    "i.e. To predict the third word, only the first and second word will be used"
   ],
   "metadata": {}
  },
  {
   "cell_type": "code",
   "execution_count": 14,
   "source": [
    "def create_look_ahead_mask(x):\r\n",
    "  seq_len = tf.shape(x)[1]\r\n",
    "  look_ahead_mask = 1 - tf.linalg.band_part(tf.ones((seq_len, seq_len)), -1, 0)\r\n",
    "  padding_mask = create_padding_mask(x)\r\n",
    "  return tf.maximum(look_ahead_mask, padding_mask)\r\n",
    "\r\n",
    "print(create_look_ahead_mask(tf.constant([[1, 2, 0, 4, 5]])))"
   ],
   "outputs": [
    {
     "output_type": "stream",
     "name": "stdout",
     "text": [
      "tf.Tensor(\n",
      "[[[[0. 1. 1. 1. 1.]\n",
      "   [0. 0. 1. 1. 1.]\n",
      "   [0. 0. 1. 1. 1.]\n",
      "   [0. 0. 1. 0. 1.]\n",
      "   [0. 0. 1. 0. 0.]]]], shape=(1, 1, 5, 5), dtype=float32)\n"
     ]
    }
   ],
   "metadata": {}
  },
  {
   "cell_type": "markdown",
   "source": [
    "### Positional encoding\r\n",
    "\r\n",
    "Since this model doesn't contain any recurrence or convolution, positional encoding is added to give the model some information about the relative position of the words in the sentence. \r\n",
    "\r\n",
    "The positional encoding vector is added to the embedding vector. Embeddings represent a token in a d-dimensional space where tokens with similar meaning will be closer to each other. But the embeddings do not encode the relative position of words in a sentence. So after adding the positional encoding, words will be closer to each other based on the *similarity of their meaning and their position in the sentence*, in the d-dimensional space.\r\n",
    "\r\n",
    "See the notebook on [positional encoding](https://github.com/tensorflow/examples/blob/master/community/en/position_encoding.ipynb) to learn more about it. The formula for calculating the positional encoding is as follows:\r\n",
    "\r\n",
    "$$\\Large{PE_{(pos, 2i)} = sin(pos / 10000^{2i / d_{model}})} $$\r\n",
    "$$\\Large{PE_{(pos, 2i+1)} = cos(pos / 10000^{2i / d_{model}})} $$"
   ],
   "metadata": {}
  },
  {
   "cell_type": "code",
   "execution_count": 16,
   "source": [
    "class PositionalEncoding(tf.keras.layers.Layer):\r\n",
    "\r\n",
    "  def __init__(self, position, d_model):\r\n",
    "    super(PositionalEncoding, self).__init__()\r\n",
    "    self.pos_encoding = self.positional_encoding(position, d_model)\r\n",
    "  \r\n",
    "  def get_config(self):\r\n",
    "\r\n",
    "        config = super(PositionalEncoding, self).get_config()\r\n",
    "        config.update({\r\n",
    "            'position': self.position,\r\n",
    "            'd_model': self.d_model,\r\n",
    "            \r\n",
    "        })\r\n",
    "        return config\r\n",
    "\r\n",
    "  def get_angles(self, position, i, d_model):\r\n",
    "    angles = 1 / tf.pow(10000, (2 * (i // 2)) / tf.cast(d_model, tf.float32))\r\n",
    "    return position * angles\r\n",
    "\r\n",
    "  def positional_encoding(self, position, d_model):\r\n",
    "    angle_rads = self.get_angles(\r\n",
    "        position=tf.range(position, dtype=tf.float32)[:, tf.newaxis],\r\n",
    "        i=tf.range(d_model, dtype=tf.float32)[tf.newaxis, :],\r\n",
    "        d_model=d_model)\r\n",
    "    # apply sin to even index in the array\r\n",
    "    sines = tf.math.sin(angle_rads[:, 0::2])\r\n",
    "    # apply cos to odd index in the array\r\n",
    "    cosines = tf.math.cos(angle_rads[:, 1::2])\r\n",
    "\r\n",
    "    pos_encoding = tf.concat([sines, cosines], axis=-1)\r\n",
    "    pos_encoding = pos_encoding[tf.newaxis, ...]\r\n",
    "    return tf.cast(pos_encoding, tf.float32)\r\n",
    "\r\n",
    "  def call(self, inputs):\r\n",
    "    return inputs + self.pos_encoding[:, :tf.shape(inputs)[1], :]"
   ],
   "outputs": [],
   "metadata": {}
  },
  {
   "cell_type": "code",
   "execution_count": 17,
   "source": [
    "sample_pos_encoding = PositionalEncoding(50, 512)\r\n",
    "\r\n",
    "plt.pcolormesh(sample_pos_encoding.pos_encoding.numpy()[0], cmap='RdBu')\r\n",
    "plt.xlabel('Depth')\r\n",
    "plt.xlim((0, 512))\r\n",
    "plt.ylabel('Position')\r\n",
    "plt.colorbar()\r\n",
    "plt.show()"
   ],
   "outputs": [
    {
     "output_type": "display_data",
     "data": {
      "image/png": "[encoded data removed]",
      "text/plain": [
       "<Figure size 432x288 with 2 Axes>"
      ]
     },
     "metadata": {
      "needs_background": "light"
     }
    }
   ],
   "metadata": {}
  },
  {
   "cell_type": "markdown",
   "source": [
    "### Encoder Layer\r\n",
    "\r\n",
    "Each encoder layer consists of sublayers:\r\n",
    "\r\n",
    "1. Multi-head attention (with padding mask) \r\n",
    "2. 2 dense layers followed by dropout\r\n",
    "\r\n",
    "Each of these sublayers has a residual connection around it followed by a layer normalization. Residual connections help in avoiding the vanishing gradient problem in deep networks.\r\n",
    "\r\n",
    "The output of each sublayer is `LayerNorm(x + Sublayer(x))`. The normalization is done on the `d_model` (last) axis."
   ],
   "metadata": {}
  },
  {
   "cell_type": "code",
   "execution_count": 18,
   "source": [
    "def encoder_layer(units, d_model, num_heads, dropout, name=\"encoder_layer\"):\r\n",
    "  inputs = tf.keras.Input(shape=(None, d_model), name=\"inputs\")\r\n",
    "  padding_mask = tf.keras.Input(shape=(1, 1, None), name=\"padding_mask\")\r\n",
    "\r\n",
    "  attention = MultiHeadAttention(\r\n",
    "      d_model, num_heads, name=\"attention\")({\r\n",
    "          'query': inputs,\r\n",
    "          'key': inputs,\r\n",
    "          'value': inputs,\r\n",
    "          'mask': padding_mask\r\n",
    "      })\r\n",
    "  attention = tf.keras.layers.Dropout(rate=dropout)(attention)\r\n",
    "  add_attention = tf.keras.layers.add([inputs,attention])\r\n",
    "  attention = tf.keras.layers.LayerNormalization(epsilon=1e-6)(add_attention)\r\n",
    "\r\n",
    "  outputs = tf.keras.layers.Dense(units=units, activation='relu')(attention)\r\n",
    "  outputs = tf.keras.layers.Dense(units=d_model)(outputs)\r\n",
    "  outputs = tf.keras.layers.Dropout(rate=dropout)(outputs)\r\n",
    "  add_attention = tf.keras.layers.add([attention,outputs])\r\n",
    "  outputs = tf.keras.layers.LayerNormalization(epsilon=1e-6)(add_attention)\r\n",
    "\r\n",
    "  return tf.keras.Model(\r\n",
    "      inputs=[inputs, padding_mask], outputs=outputs, name=name)"
   ],
   "outputs": [],
   "metadata": {}
  },
  {
   "cell_type": "code",
   "execution_count": 23,
   "source": [
    "sample_encoder_layer = encoder_layer(\r\n",
    "    units=512,\r\n",
    "    d_model=128,\r\n",
    "    num_heads=4,\r\n",
    "    dropout=0.3,\r\n",
    "    name=\"sample_encoder_layer\")\r\n",
    "\r\n",
    "tf.keras.utils.plot_model(\r\n",
    "    sample_encoder_layer, to_file='encoder_layer.png', show_shapes=True)"
   ],
   "outputs": [
    {
     "output_type": "stream",
     "name": "stdout",
     "text": [
      "('You must install pydot (`pip install pydot`) and install graphviz (see instructions at https://graphviz.gitlab.io/download/) ', 'for plot_model/model_to_dot to work.')\n"
     ]
    }
   ],
   "metadata": {}
  },
  {
   "cell_type": "markdown",
   "source": [
    "### Encoder\r\n",
    "\r\n",
    "The Encoder consists of:\r\n",
    "1.   Input Embedding\r\n",
    "2.   Positional Encoding\r\n",
    "3.   `num_layers` encoder layers\r\n",
    "\r\n",
    "The input is put through an embedding which is summed with the positional encoding. The output of this summation is the input to the encoder layers. The output of the encoder is the input to the decoder."
   ],
   "metadata": {}
  },
  {
   "cell_type": "code",
   "execution_count": 24,
   "source": [
    "def encoder(vocab_size,\r\n",
    "            num_layers,\r\n",
    "            units,\r\n",
    "            d_model,\r\n",
    "            num_heads,\r\n",
    "            dropout,\r\n",
    "            name=\"encoder\"):\r\n",
    "  inputs = tf.keras.Input(shape=(None,), name=\"inputs\")\r\n",
    "  padding_mask = tf.keras.Input(shape=(1, 1, None), name=\"padding_mask\")\r\n",
    "\r\n",
    "  embeddings = tf.keras.layers.Embedding(vocab_size, d_model)(inputs)\r\n",
    "  embeddings *= tf.keras.layers.Lambda(lambda d_model: tf.math.sqrt(tf.cast(d_model, tf.float32)))(d_model)\r\n",
    "  embeddings = PositionalEncoding(vocab_size,d_model)(embeddings)\r\n",
    "\r\n",
    "  outputs = tf.keras.layers.Dropout(rate=dropout)(embeddings)\r\n",
    "\r\n",
    "  for i in range(num_layers):\r\n",
    "    outputs = encoder_layer(\r\n",
    "        units=units,\r\n",
    "        d_model=d_model,\r\n",
    "        num_heads=num_heads,\r\n",
    "        dropout=dropout,\r\n",
    "        name=\"encoder_layer_{}\".format(i),\r\n",
    "    )([outputs, padding_mask])\r\n",
    "\r\n",
    "  return tf.keras.Model(\r\n",
    "      inputs=[inputs, padding_mask], outputs=outputs, name=name)"
   ],
   "outputs": [],
   "metadata": {}
  },
  {
   "cell_type": "code",
   "execution_count": 25,
   "source": [
    "sample_encoder = encoder(\r\n",
    "    vocab_size=8192,\r\n",
    "    num_layers=2,\r\n",
    "    units=512,\r\n",
    "    d_model=128,\r\n",
    "    num_heads=4,\r\n",
    "    dropout=0.3,\r\n",
    "    name=\"sample_encoder\")\r\n",
    "\r\n",
    "tf.keras.utils.plot_model(\r\n",
    "   sample_encoder, to_file='encoder.png', show_shapes=True)"
   ],
   "outputs": [
    {
     "output_type": "stream",
     "name": "stdout",
     "text": [
      "('You must install pydot (`pip install pydot`) and install graphviz (see instructions at https://graphviz.gitlab.io/download/) ', 'for plot_model/model_to_dot to work.')\n"
     ]
    }
   ],
   "metadata": {}
  },
  {
   "cell_type": "markdown",
   "source": [
    "### Decoder Layer\r\n",
    "\r\n",
    "Each decoder layer consists of sublayers:\r\n",
    "\r\n",
    "1.   Masked multi-head attention (with look ahead mask and padding mask)\r\n",
    "2.   Multi-head attention (with padding mask). `value` and `key` receive the *encoder output* as inputs. `query` receives the *output from the masked multi-head attention sublayer.*\r\n",
    "3.   2 dense layers followed by dropout\r\n",
    "\r\n",
    "Each of these sublayers has a residual connection around it followed by a layer normalization. The output of each sublayer is `LayerNorm(x + Sublayer(x))`. The normalization is done on the `d_model` (last) axis.\r\n",
    "\r\n",
    "As `query` receives the output from decoder's first attention block, and `key` receives the encoder output, the attention weights represent the importance given to the decoder's input based on the encoder's output. In other words, the decoder predicts the next word by looking at the encoder output and self-attending to its own output. See the demonstration above in the scaled dot product attention section."
   ],
   "metadata": {}
  },
  {
   "cell_type": "code",
   "execution_count": 26,
   "source": [
    "def decoder_layer(units, d_model, num_heads, dropout, name=\"decoder_layer\"):\r\n",
    "  inputs = tf.keras.Input(shape=(None, d_model), name=\"inputs\")\r\n",
    "  enc_outputs = tf.keras.Input(shape=(None, d_model), name=\"encoder_outputs\")\r\n",
    "  look_ahead_mask = tf.keras.Input(\r\n",
    "      shape=(1, None, None), name=\"look_ahead_mask\")\r\n",
    "  padding_mask = tf.keras.Input(shape=(1, 1, None), name='padding_mask')\r\n",
    "\r\n",
    "  attention1 = MultiHeadAttention(\r\n",
    "      d_model, num_heads, name=\"attention_1\")(inputs={\r\n",
    "          'query': inputs,\r\n",
    "          'key': inputs,\r\n",
    "          'value': inputs,\r\n",
    "          'mask': look_ahead_mask\r\n",
    "      })\r\n",
    "  add_attention = tf.keras.layers.add([attention1,inputs])    \r\n",
    "  attention1 = tf.keras.layers.LayerNormalization(epsilon=1e-6)(add_attention)\r\n",
    "\r\n",
    "  attention2 = MultiHeadAttention(\r\n",
    "      d_model, num_heads, name=\"attention_2\")(inputs={\r\n",
    "          'query': attention1,\r\n",
    "          'key': enc_outputs,\r\n",
    "          'value': enc_outputs,\r\n",
    "          'mask': padding_mask\r\n",
    "      })\r\n",
    "  attention2 = tf.keras.layers.Dropout(rate=dropout)(attention2)\r\n",
    "  add_attention = tf.keras.layers.add([attention2,attention1])\r\n",
    "  attention2 = tf.keras.layers.LayerNormalization(epsilon=1e-6)(add_attention)\r\n",
    "\r\n",
    "  outputs = tf.keras.layers.Dense(units=units, activation='relu')(attention2)\r\n",
    "  outputs = tf.keras.layers.Dense(units=d_model)(outputs)\r\n",
    "  outputs = tf.keras.layers.Dropout(rate=dropout)(outputs)\r\n",
    "  add_attention = tf.keras.layers.add([outputs,attention2])\r\n",
    "  outputs = tf.keras.layers.LayerNormalization(epsilon=1e-6)(add_attention)\r\n",
    "\r\n",
    "  return tf.keras.Model(\r\n",
    "      inputs=[inputs, enc_outputs, look_ahead_mask, padding_mask],\r\n",
    "      outputs=outputs,\r\n",
    "      name=name)"
   ],
   "outputs": [],
   "metadata": {}
  },
  {
   "cell_type": "code",
   "execution_count": 27,
   "source": [
    "sample_decoder_layer = decoder_layer(\r\n",
    "    units=512,\r\n",
    "    d_model=128,\r\n",
    "    num_heads=4,\r\n",
    "    dropout=0.3,\r\n",
    "    name=\"sample_decoder_layer\")\r\n",
    "\r\n",
    "tf.keras.utils.plot_model(\r\n",
    "    sample_decoder_layer, to_file='decoder_layer.png', show_shapes=True)"
   ],
   "outputs": [
    {
     "output_type": "stream",
     "name": "stdout",
     "text": [
      "('You must install pydot (`pip install pydot`) and install graphviz (see instructions at https://graphviz.gitlab.io/download/) ', 'for plot_model/model_to_dot to work.')\n"
     ]
    }
   ],
   "metadata": {}
  },
  {
   "cell_type": "markdown",
   "source": [
    "### Decoder\r\n",
    "\r\n",
    "The Decoder consists of:\r\n",
    "1.   Output Embedding\r\n",
    "2.   Positional Encoding\r\n",
    "3.   N decoder layers\r\n",
    "\r\n",
    "The target is put through an embedding which is summed with the positional encoding. The output of this summation is the input to the decoder layers. The output of the decoder is the input to the final linear layer."
   ],
   "metadata": {}
  },
  {
   "cell_type": "code",
   "execution_count": 28,
   "source": [
    "def decoder(vocab_size,\r\n",
    "            num_layers,\r\n",
    "            units,\r\n",
    "            d_model,\r\n",
    "            num_heads,\r\n",
    "            dropout,\r\n",
    "            name='decoder'):\r\n",
    "  inputs = tf.keras.Input(shape=(None,), name='inputs')\r\n",
    "  enc_outputs = tf.keras.Input(shape=(None, d_model), name='encoder_outputs')\r\n",
    "  look_ahead_mask = tf.keras.Input(\r\n",
    "      shape=(1, None, None), name='look_ahead_mask')\r\n",
    "  padding_mask = tf.keras.Input(shape=(1, 1, None), name='padding_mask')\r\n",
    "  \r\n",
    "  embeddings = tf.keras.layers.Embedding(vocab_size, d_model)(inputs)\r\n",
    "  embeddings *= tf.keras.layers.Lambda(lambda d_model: tf.math.sqrt(tf.cast(d_model, tf.float32)))(d_model)\r\n",
    "  embeddings = PositionalEncoding(vocab_size, d_model)(embeddings)\r\n",
    "\r\n",
    "  outputs = tf.keras.layers.Dropout(rate=dropout)(embeddings)\r\n",
    "\r\n",
    "  for i in range(num_layers):\r\n",
    "    outputs = decoder_layer(\r\n",
    "        units=units,\r\n",
    "        d_model=d_model,\r\n",
    "        num_heads=num_heads,\r\n",
    "        dropout=dropout,\r\n",
    "        name='decoder_layer_{}'.format(i),\r\n",
    "    )(inputs=[outputs, enc_outputs, look_ahead_mask, padding_mask])\r\n",
    "\r\n",
    "  return tf.keras.Model(\r\n",
    "      inputs=[inputs, enc_outputs, look_ahead_mask, padding_mask],\r\n",
    "      outputs=outputs,\r\n",
    "      name=name)"
   ],
   "outputs": [],
   "metadata": {}
  },
  {
   "cell_type": "code",
   "execution_count": 29,
   "source": [
    "sample_decoder = decoder(\r\n",
    "    vocab_size=8192,\r\n",
    "    num_layers=2,\r\n",
    "    units=512,\r\n",
    "    d_model=128,\r\n",
    "    num_heads=4,\r\n",
    "    dropout=0.3,\r\n",
    "    name=\"sample_decoder\")\r\n",
    "\r\n",
    "tf.keras.utils.plot_model(\r\n",
    "    sample_decoder, to_file='decoder.png', show_shapes=True)"
   ],
   "outputs": [
    {
     "output_type": "stream",
     "name": "stdout",
     "text": [
      "('You must install pydot (`pip install pydot`) and install graphviz (see instructions at https://graphviz.gitlab.io/download/) ', 'for plot_model/model_to_dot to work.')\n"
     ]
    }
   ],
   "metadata": {}
  },
  {
   "cell_type": "markdown",
   "source": [
    "### Transformer\r\n",
    "\r\n",
    "Transformer consists of the encoder, decoder and a final linear layer. The output of the decoder is the input to the linear layer and its output is returned."
   ],
   "metadata": {}
  },
  {
   "cell_type": "code",
   "execution_count": 30,
   "source": [
    "def transformer(vocab_size,\r\n",
    "                num_layers,\r\n",
    "                units,\r\n",
    "                d_model,\r\n",
    "                num_heads,\r\n",
    "                dropout,\r\n",
    "                name=\"transformer\"):\r\n",
    "  inputs = tf.keras.Input(shape=(None,), name=\"inputs\")\r\n",
    "  dec_inputs = tf.keras.Input(shape=(None,), name=\"dec_inputs\")\r\n",
    "\r\n",
    "  enc_padding_mask = tf.keras.layers.Lambda(\r\n",
    "      create_padding_mask, output_shape=(1, 1, None),\r\n",
    "      name='enc_padding_mask')(inputs)\r\n",
    "  # mask the future tokens for decoder inputs at the 1st attention block\r\n",
    "  look_ahead_mask = tf.keras.layers.Lambda(\r\n",
    "      create_look_ahead_mask,\r\n",
    "      output_shape=(1, None, None),\r\n",
    "      name='look_ahead_mask')(dec_inputs)\r\n",
    "  # mask the encoder outputs for the 2nd attention block\r\n",
    "  dec_padding_mask = tf.keras.layers.Lambda(\r\n",
    "      create_padding_mask, output_shape=(1, 1, None),\r\n",
    "      name='dec_padding_mask')(inputs)\r\n",
    "\r\n",
    "  enc_outputs = encoder(\r\n",
    "      vocab_size=vocab_size,\r\n",
    "      num_layers=num_layers,\r\n",
    "      units=units,\r\n",
    "      d_model=d_model,\r\n",
    "      num_heads=num_heads,\r\n",
    "      dropout=dropout,\r\n",
    "  )(inputs=[inputs, enc_padding_mask])\r\n",
    "\r\n",
    "  dec_outputs = decoder(\r\n",
    "      vocab_size=vocab_size,\r\n",
    "      num_layers=num_layers,\r\n",
    "      units=units,\r\n",
    "      d_model=d_model,\r\n",
    "      num_heads=num_heads,\r\n",
    "      dropout=dropout,\r\n",
    "  )(inputs=[dec_inputs, enc_outputs, look_ahead_mask, dec_padding_mask])\r\n",
    "\r\n",
    "  outputs = tf.keras.layers.Dense(units=vocab_size, name=\"outputs\")(dec_outputs)\r\n",
    "\r\n",
    "  return tf.keras.Model(inputs=[inputs, dec_inputs], outputs=outputs, name=name)"
   ],
   "outputs": [],
   "metadata": {}
  },
  {
   "cell_type": "code",
   "execution_count": 31,
   "source": [
    "sample_transformer = transformer(\r\n",
    "    vocab_size=8192,\r\n",
    "    num_layers=4,\r\n",
    "    units=512,\r\n",
    "    d_model=128,\r\n",
    "    num_heads=4,\r\n",
    "    dropout=0.3,\r\n",
    "    name=\"sample_transformer\")\r\n",
    "\r\n",
    "tf.keras.utils.plot_model(\r\n",
    "    sample_transformer, to_file='transformer.png', show_shapes=True)"
   ],
   "outputs": [
    {
     "output_type": "stream",
     "name": "stdout",
     "text": [
      "('You must install pydot (`pip install pydot`) and install graphviz (see instructions at https://graphviz.gitlab.io/download/) ', 'for plot_model/model_to_dot to work.')\n"
     ]
    }
   ],
   "metadata": {}
  },
  {
   "cell_type": "markdown",
   "source": [
    "## Train model\r\n",
    "### Loss function\r\n",
    "\r\n",
    "Since the target sequences are padded, it is important to apply a padding mask when calculating the loss."
   ],
   "metadata": {}
  },
  {
   "cell_type": "code",
   "execution_count": 32,
   "source": [
    "def loss_function(y_true, y_pred):\r\n",
    "  y_true = tf.reshape(y_true, shape=(-1, MAX_LENGTH - 1))\r\n",
    "  \r\n",
    "  loss = tf.keras.losses.SparseCategoricalCrossentropy(\r\n",
    "      from_logits=True, reduction='none')(y_true, y_pred)\r\n",
    "\r\n",
    "  mask = tf.cast(tf.not_equal(y_true, 0), tf.float32)\r\n",
    "  loss = tf.multiply(loss, mask)\r\n",
    "\r\n",
    "  return tf.reduce_mean(loss)"
   ],
   "outputs": [],
   "metadata": {}
  },
  {
   "cell_type": "markdown",
   "source": [
    "### Custom learning rate\r\n",
    "\r\n",
    "Use the Adam optimizer with a custom learning rate scheduler according to the formula in the [paper](https://arxiv.org/abs/1706.03762).\r\n",
    "\r\n",
    "$$\\Large{lrate = d_{model}^{-0.5} * min(step{\\_}num^{-0.5}, step{\\_}num * warmup{\\_}steps^{-1.5})}$$"
   ],
   "metadata": {}
  },
  {
   "cell_type": "code",
   "execution_count": 33,
   "source": [
    "class CustomSchedule(tf.keras.optimizers.schedules.LearningRateSchedule):\r\n",
    "\r\n",
    "  def __init__(self, d_model, warmup_steps=4000):\r\n",
    "    super(CustomSchedule, self).__init__()\r\n",
    "    \r\n",
    "    self.d_model = tf.constant(d_model,dtype=tf.float32)\r\n",
    "    self.warmup_steps = warmup_steps\r\n",
    "    \r\n",
    "  def get_config(self):\r\n",
    "        return {\"d_model\": self.d_model,\"warmup_steps\":self.warmup_steps}\r\n",
    "    \r\n",
    "  def __call__(self, step):\r\n",
    "    arg1 = tf.math.rsqrt(step)\r\n",
    "    arg2 = step * (self.warmup_steps**-1.5)\r\n",
    "\r\n",
    "    return tf.math.multiply(tf.math.rsqrt(self.d_model), tf.math.minimum(arg1, arg2))"
   ],
   "outputs": [],
   "metadata": {}
  },
  {
   "cell_type": "code",
   "execution_count": 34,
   "source": [
    "sample_learning_rate = CustomSchedule(d_model=128)\r\n",
    "\r\n",
    "plt.plot(sample_learning_rate(tf.range(200000, dtype=tf.float32)))\r\n",
    "plt.ylabel(\"Learning Rate\")\r\n",
    "plt.xlabel(\"Train Step\")"
   ],
   "outputs": [
    {
     "output_type": "execute_result",
     "data": {
      "text/plain": [
       "Text(0.5, 0, 'Train Step')"
      ]
     },
     "metadata": {},
     "execution_count": 34
    },
    {
     "output_type": "display_data",
     "data": {
      "image/png": "[encoded data removed]",
      "text/plain": [
       "<Figure size 432x288 with 1 Axes>"
      ]
     },
     "metadata": {
      "needs_background": "light"
     }
    }
   ],
   "metadata": {}
  },
  {
   "cell_type": "markdown",
   "source": [
    "### Initialize and compile model\r\n",
    "\r\n",
    "Initialize and compile model with our predefined custom learning rate and Adam optimizer under the strategy scope."
   ],
   "metadata": {}
  },
  {
   "cell_type": "code",
   "execution_count": 35,
   "source": [
    "     "
   ],
   "outputs": [
    {
     "output_type": "stream",
     "name": "stdout",
     "text": [
      "Model: \"transformer\"\n",
      "__________________________________________________________________________________________________\n",
      "Layer (type)                    Output Shape         Param #     Connected to                     \n",
      "==================================================================================================\n",
      "inputs (InputLayer)             [(None, None)]       0                                            \n",
      "__________________________________________________________________________________________________\n",
      "dec_inputs (InputLayer)         [(None, None)]       0                                            \n",
      "__________________________________________________________________________________________________\n",
      "enc_padding_mask (Lambda)       (None, 1, 1, None)   0           inputs[0][0]                     \n",
      "__________________________________________________________________________________________________\n",
      "encoder (Functional)            (None, None, 256)    3173376     inputs[0][0]                     \n",
      "                                                                 enc_padding_mask[0][0]           \n",
      "__________________________________________________________________________________________________\n",
      "look_ahead_mask (Lambda)        (None, 1, None, None 0           dec_inputs[0][0]                 \n",
      "__________________________________________________________________________________________________\n",
      "dec_padding_mask (Lambda)       (None, 1, 1, None)   0           inputs[0][0]                     \n",
      "__________________________________________________________________________________________________\n",
      "decoder (Functional)            (None, None, 256)    3700736     dec_inputs[0][0]                 \n",
      "                                                                 encoder[0][0]                    \n",
      "                                                                 look_ahead_mask[0][0]            \n",
      "                                                                 dec_padding_mask[0][0]           \n",
      "__________________________________________________________________________________________________\n",
      "outputs (Dense)                 (None, None, 8278)   2127446     decoder[0][0]                    \n",
      "==================================================================================================\n",
      "Total params: 9,001,558\n",
      "Trainable params: 9,001,558\n",
      "Non-trainable params: 0\n",
      "__________________________________________________________________________________________________\n"
     ]
    }
   ],
   "metadata": {}
  },
  {
   "cell_type": "markdown",
   "source": [
    "### Fit model\r\n",
    "\r\n",
    "Train our transformer by simply calling `model.fit()`"
   ],
   "metadata": {}
  },
  {
   "cell_type": "code",
   "execution_count": 36,
   "source": [
    "model.fit(dataset, epochs=EPOCHS)"
   ],
   "outputs": [
    {
     "output_type": "stream",
     "name": "stdout",
     "text": [
      "Epoch 1/40\n",
      "690/690 [==============================] - 614s 878ms/step - loss: 2.0973 - accuracy: 0.0423\n",
      "Epoch 2/40\n",
      "690/690 [==============================] - 576s 834ms/step - loss: 1.4932 - accuracy: 0.0775\n",
      "Epoch 3/40\n",
      "690/690 [==============================] - 597s 866ms/step - loss: 1.3893 - accuracy: 0.0848\n",
      "Epoch 4/40\n",
      "690/690 [==============================] - 649s 941ms/step - loss: 1.3310 - accuracy: 0.0894\n",
      "Epoch 5/40\n",
      "690/690 [==============================] - 669s 970ms/step - loss: 1.2793 - accuracy: 0.0934\n",
      "Epoch 6/40\n",
      "216/690 [========>.....................] - ETA: 8:14 - loss: 1.2323 - accuracy: 0.0977"
     ]
    }
   ],
   "metadata": {}
  },
  {
   "cell_type": "markdown",
   "source": [
    "## Evaluate and predict\r\n",
    "\r\n",
    "The following steps are used for evaluation:\r\n",
    "\r\n",
    "* Apply the same preprocessing method we used to create our dataset for the input sentence.\r\n",
    "* Tokenize the input sentence and add `START_TOKEN` and `END_TOKEN`. \r\n",
    "* Calculate the padding masks and the look ahead masks.\r\n",
    "* The decoder then outputs the predictions by looking at the encoder output and its own output.\r\n",
    "* Select the last word and calculate the argmax of that.\r\n",
    "* Concatentate the predicted word to the decoder input as pass it to the decoder.\r\n",
    "* In this approach, the decoder predicts the next word based on the previous words it predicted.\r\n",
    "\r\n",
    "Note: The model used here has less capacity and trained on a subset of the full dataset, hence its performance can be further improved."
   ],
   "metadata": {}
  },
  {
   "cell_type": "code",
   "execution_count": 1,
   "source": [
    "def evaluate(sentence):\r\n",
    "  sentence = preprocess_sentence(sentence)\r\n",
    "\r\n",
    "  sentence = tf.expand_dims(\r\n",
    "      START_TOKEN + tokenizer.encode(sentence) + END_TOKEN, axis=0)\r\n",
    "\r\n",
    "  output = tf.expand_dims(START_TOKEN, 0)\r\n",
    "\r\n",
    "  for i in range(MAX_LENGTH):\r\n",
    "    predictions = model(inputs=[sentence, output], training=False)\r\n",
    "\r\n",
    "    # select the last word from the seq_len dimension\r\n",
    "    predictions = predictions[:, -1:, :]\r\n",
    "    predicted_id = tf.cast(tf.argmax(predictions, axis=-1), tf.int32)\r\n",
    "\r\n",
    "    # return the result if the predicted_id is equal to the end token\r\n",
    "    if tf.equal(predicted_id, END_TOKEN[0]):\r\n",
    "      break\r\n",
    "\r\n",
    "    # concatenated the predicted_id to the output which is given to the decoder\r\n",
    "    # as its input.\r\n",
    "    output = tf.concat([output, predicted_id], axis=-1)\r\n",
    "\r\n",
    "  return tf.squeeze(output, axis=0)\r\n",
    "\r\n",
    "\r\n",
    "def predict(sentence):\r\n",
    "  prediction = evaluate(sentence)\r\n",
    "\r\n",
    "  predicted_sentence = tokenizer.decode(\r\n",
    "      [i for i in prediction if i < tokenizer.vocab_size])\r\n",
    "\r\n",
    "  print('Input: {}'.format(sentence))\r\n",
    "  print('Output: {}'.format(predicted_sentence))\r\n",
    "\r\n",
    "  return predicted_sentence"
   ],
   "outputs": [],
   "metadata": {}
  },
  {
   "cell_type": "markdown",
   "source": [
    "## Let's test our model!"
   ],
   "metadata": {}
  },
  {
   "cell_type": "code",
   "execution_count": 2,
   "source": [
    "output = predict('Where have you been?')"
   ],
   "outputs": [
    {
     "output_type": "error",
     "ename": "NameError",
     "evalue": "name 'preprocess_sentence' is not defined",
     "traceback": [
      "\u001b[1;31m---------------------------------------------------------------------------\u001b[0m",
      "\u001b[1;31mNameError\u001b[0m                                 Traceback (most recent call last)",
      "\u001b[1;32m~\\AppData\\Local\\Temp/ipykernel_8632/2781785577.py\u001b[0m in \u001b[0;36m<module>\u001b[1;34m\u001b[0m\n\u001b[1;32m----> 1\u001b[1;33m \u001b[0moutput\u001b[0m \u001b[1;33m=\u001b[0m \u001b[0mpredict\u001b[0m\u001b[1;33m(\u001b[0m\u001b[1;34m'Where have you been?'\u001b[0m\u001b[1;33m)\u001b[0m\u001b[1;33m\u001b[0m\u001b[1;33m\u001b[0m\u001b[0m\n\u001b[0m",
      "\u001b[1;32m~\\AppData\\Local\\Temp/ipykernel_8632/2827829070.py\u001b[0m in \u001b[0;36mpredict\u001b[1;34m(sentence)\u001b[0m\n\u001b[0;32m     26\u001b[0m \u001b[1;33m\u001b[0m\u001b[0m\n\u001b[0;32m     27\u001b[0m \u001b[1;32mdef\u001b[0m \u001b[0mpredict\u001b[0m\u001b[1;33m(\u001b[0m\u001b[0msentence\u001b[0m\u001b[1;33m)\u001b[0m\u001b[1;33m:\u001b[0m\u001b[1;33m\u001b[0m\u001b[1;33m\u001b[0m\u001b[0m\n\u001b[1;32m---> 28\u001b[1;33m   \u001b[0mprediction\u001b[0m \u001b[1;33m=\u001b[0m \u001b[0mevaluate\u001b[0m\u001b[1;33m(\u001b[0m\u001b[0msentence\u001b[0m\u001b[1;33m)\u001b[0m\u001b[1;33m\u001b[0m\u001b[1;33m\u001b[0m\u001b[0m\n\u001b[0m\u001b[0;32m     29\u001b[0m \u001b[1;33m\u001b[0m\u001b[0m\n\u001b[0;32m     30\u001b[0m   predicted_sentence = tokenizer.decode(\n",
      "\u001b[1;32m~\\AppData\\Local\\Temp/ipykernel_8632/2827829070.py\u001b[0m in \u001b[0;36mevaluate\u001b[1;34m(sentence)\u001b[0m\n\u001b[0;32m      1\u001b[0m \u001b[1;32mdef\u001b[0m \u001b[0mevaluate\u001b[0m\u001b[1;33m(\u001b[0m\u001b[0msentence\u001b[0m\u001b[1;33m)\u001b[0m\u001b[1;33m:\u001b[0m\u001b[1;33m\u001b[0m\u001b[1;33m\u001b[0m\u001b[0m\n\u001b[1;32m----> 2\u001b[1;33m   \u001b[0msentence\u001b[0m \u001b[1;33m=\u001b[0m \u001b[0mpreprocess_sentence\u001b[0m\u001b[1;33m(\u001b[0m\u001b[0msentence\u001b[0m\u001b[1;33m)\u001b[0m\u001b[1;33m\u001b[0m\u001b[1;33m\u001b[0m\u001b[0m\n\u001b[0m\u001b[0;32m      3\u001b[0m \u001b[1;33m\u001b[0m\u001b[0m\n\u001b[0;32m      4\u001b[0m   sentence = tf.expand_dims(\n\u001b[0;32m      5\u001b[0m       START_TOKEN + tokenizer.encode(sentence) + END_TOKEN, axis=0)\n",
      "\u001b[1;31mNameError\u001b[0m: name 'preprocess_sentence' is not defined"
     ]
    }
   ],
   "metadata": {}
  },
  {
   "cell_type": "code",
   "execution_count": null,
   "source": [
    "# feed the model with its previous output\r\n",
    "sentence = 'I am not crazy, my mother had me tested.'\r\n",
    "for _ in range(5):\r\n",
    "  sentence = predict(sentence)\r\n",
    "  print('')"
   ],
   "outputs": [],
   "metadata": {}
  },
  {
   "cell_type": "markdown",
   "source": [
    "## Summary\r\n",
    "\r\n",
    "Here we are, we have implemented a Transformer in TensorFlow 2.0 in around 500 lines of code.\r\n",
    "\r\n",
    "In this tutorial, we focus on the two different approaches to implement complex models with Functional API and Model subclassing, and how to incorporate them.\r\n",
    "\r\n",
    "Try using a different dataset or hyper-parameters to train the Transformer! Thanks for reading."
   ],
   "metadata": {}
  }
 ],
 "metadata": {
  "orig_nbformat": 4,
  "language_info": {
   "name": "python",
   "version": "3.9.7",
   "mimetype": "text/x-python",
   "codemirror_mode": {
    "name": "ipython",
    "version": 3
   },
   "pygments_lexer": "ipython3",
   "nbconvert_exporter": "python",
   "file_extension": ".py"
  },
  "kernelspec": {
   "name": "python3",
   "display_name": "Python 3.9.7 64-bit"
  },
  "interpreter": {
   "hash": "a7086b289349dcbdcc95b88dd6de6414aa0a09c78060f18e077c6d6c12c13710"
  }
 },
 "nbformat": 4,
 "nbformat_minor": 2
}